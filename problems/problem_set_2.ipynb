{
 "cells": [
  {
   "cell_type": "markdown",
   "metadata": {},
   "source": [
    "# Problem Set 2"
   ]
  },
  {
   "cell_type": "code",
   "execution_count": 16,
   "metadata": {},
   "outputs": [],
   "source": [
    "# Imports \n",
    "\n",
    "import sympy as sp\n",
    "import numpy as np\n",
    "from scipy.linalg import lu"
   ]
  },
  {
   "cell_type": "markdown",
   "metadata": {},
   "source": [
    "Section 2.5\n",
    "\n",
    "24."
   ]
  },
  {
   "cell_type": "code",
   "execution_count": 15,
   "metadata": {},
   "outputs": [
    {
     "name": "stdout",
     "output_type": "stream",
     "text": [
      "⎡1  -a  a⋅c - b⎤\n",
      "⎢              ⎥\n",
      "⎢0  1     -c   ⎥\n",
      "⎢              ⎥\n",
      "⎣0  0      1   ⎦\n"
     ]
    }
   ],
   "source": [
    "# Perform Gauss Jordan elimination \n",
    "# Here U * U^-1 = I\n",
    "# We need to find U^-1\n",
    "\n",
    "def gauss_jordan_elimination(matrix):\n",
    "    \"\"\"\n",
    "    Perform Gauss-Jordan elimination on the given matrix.\n",
    "    \"\"\"\n",
    "    rows, cols = matrix.shape\n",
    "    matrix = matrix.applyfunc(sp.simplify)\n",
    "\n",
    "    for i in range(rows):\n",
    "        # Make the diagonal contain all 1s\n",
    "        if matrix[i,i] == 0:\n",
    "            for k in range(i+1, rows):\n",
    "                if matrix[k,i] != 0:\n",
    "                    matrix.row_swap(i, k)\n",
    "                    break\n",
    "        # Normalize the pivot row\n",
    "        matrix[i] = matrix[i] / matrix[i,i]\n",
    "\n",
    "        # Make all the rows above and below the pivot 0\n",
    "        for j in range(rows):\n",
    "            if j != i:\n",
    "                matrix[j, :] -= matrix[i, :] * matrix[j, i]\n",
    "                matrix = matrix.applyfunc(sp.simplify)\n",
    "\n",
    "    return matrix\n",
    "\n",
    "def gauss_jordan_inverse(A):\n",
    "    \"\"\" Returns the inverse of matrix A using Gauss-Jordan elimination \"\"\"\n",
    "    n = A.shape[0]\n",
    "\n",
    "    # Augment with the identity matrix\n",
    "    aug = A.row_join(sp.eye(n))\n",
    "\n",
    "    # Perform Gauss-Jordan elimination\n",
    "    rref = gauss_jordan_elimination(aug)\n",
    "\n",
    "    # Extract the inverse from the augmented matrix\n",
    "    inverse = rref[:, n:]\n",
    "\n",
    "    return inverse\n",
    "\n",
    "a, b, c = sp.symbols('a b c')\n",
    "U = sp.Matrix([[1, a, b], [0, 1, c], [0, 0, 1]])\n",
    "U_inv = gauss_jordan_inverse(U)\n",
    "\n",
    "sp.pprint(U_inv)"
   ]
  },
  {
   "cell_type": "markdown",
   "metadata": {},
   "source": [
    "Section 2.6\n",
    "\n",
    "13.\n"
   ]
  },
  {
   "cell_type": "code",
   "execution_count": 14,
   "metadata": {},
   "outputs": [
    {
     "name": "stdout",
     "output_type": "stream",
     "text": [
      "Marix A:\n",
      "⎡a  a  a  a⎤\n",
      "⎢          ⎥\n",
      "⎢a  b  b  b⎥\n",
      "⎢          ⎥\n",
      "⎢a  b  c  c⎥\n",
      "⎢          ⎥\n",
      "⎣a  b  c  d⎦\n",
      "Matrix L:\n",
      "⎡1  0  0  0⎤\n",
      "⎢          ⎥\n",
      "⎢1  1  0  0⎥\n",
      "⎢          ⎥\n",
      "⎢1  1  1  0⎥\n",
      "⎢          ⎥\n",
      "⎣1  1  1  1⎦\n",
      "Matrix U:\n",
      "⎡a    a       a       a   ⎤\n",
      "⎢                         ⎥\n",
      "⎢0  -a + b  -a + b  -a + b⎥\n",
      "⎢                         ⎥\n",
      "⎢0    0     -b + c  -b + c⎥\n",
      "⎢                         ⎥\n",
      "⎣0    0       0     -c + d⎦\n",
      "Reconstructed Matrix:\n",
      "⎡a  a  a  a⎤\n",
      "⎢          ⎥\n",
      "⎢a  b  b  b⎥\n",
      "⎢          ⎥\n",
      "⎢a  b  c  c⎥\n",
      "⎢          ⎥\n",
      "⎣a  b  c  d⎦\n",
      "\n",
      "Is A == L * U?\n",
      "True\n"
     ]
    }
   ],
   "source": [
    "a, b, c, d = sp.symbols('a b c d')\n",
    "\n",
    "A = sp.Matrix([[a, a, a, a], [a, b, b, b], [a, b, c, c], [a, b, c, d]])\n",
    "\n",
    "L, U, P = A.LUdecomposition()\n",
    "\n",
    "print(\"Marix A:\")\n",
    "sp.pprint(A)\n",
    "print(\"Matrix L:\")\n",
    "sp.pprint(L)\n",
    "print(\"Matrix U:\")\n",
    "sp.pprint(U)\n",
    "\n",
    "reconstructed = L * U\n",
    "print(\"Reconstructed Matrix:\")\n",
    "sp.pprint(reconstructed)\n",
    "\n",
    "print(\"\\nIs A == L * U?\")\n",
    "print(A.equals(reconstructed))"
   ]
  },
  {
   "cell_type": "markdown",
   "metadata": {},
   "source": [
    "Section 2.6\n",
    "\n",
    "25.\n",
    "\n",
    "Ans : \n",
    "$\n",
    "(L^{-1})_{i,j} =\n",
    "\\begin{cases} \n",
    "\\frac{j}{i}, & \\text{if } j \\leq i \\\\\n",
    "0, & \\text{if } j > i\n",
    "\\end{cases}\n",
    "$"
   ]
  },
  {
   "cell_type": "code",
   "execution_count": 18,
   "metadata": {},
   "outputs": [
    {
     "name": "stdout",
     "output_type": "stream",
     "text": [
      "Matrix K:\n",
      "[[ 2 -1  0  0  0  0]\n",
      " [-1  2 -1  0  0  0]\n",
      " [ 0 -1  2 -1  0  0]\n",
      " [ 0  0 -1  2 -1  0]\n",
      " [ 0  0  0 -1  2 -1]\n",
      " [ 0  0  0  0 -1  2]]\n",
      "\n",
      "Lower Triangular Matrix L:\n",
      "[[ 1.          0.          0.          0.          0.          0.        ]\n",
      " [-0.5         1.          0.          0.          0.          0.        ]\n",
      " [ 0.         -0.66666667  1.          0.          0.          0.        ]\n",
      " [ 0.          0.         -0.75        1.          0.          0.        ]\n",
      " [ 0.          0.          0.         -0.8         1.          0.        ]\n",
      " [ 0.          0.          0.          0.         -0.83333333  1.        ]]\n",
      "\n",
      "Upper Triangular Matrix U:\n",
      "[[ 2.         -1.          0.          0.          0.          0.        ]\n",
      " [ 0.          1.5        -1.          0.          0.          0.        ]\n",
      " [ 0.          0.          1.33333333 -1.          0.          0.        ]\n",
      " [ 0.          0.          0.          1.25       -1.          0.        ]\n",
      " [ 0.          0.          0.          0.          1.2        -1.        ]\n",
      " [ 0.          0.          0.          0.          0.          1.16666667]]\n",
      "\n",
      "Inverse of L (L^(-1)):\n",
      "[[1.         0.         0.         0.         0.         0.        ]\n",
      " [0.5        1.         0.         0.         0.         0.        ]\n",
      " [0.33333333 0.66666667 1.         0.         0.         0.        ]\n",
      " [0.25       0.5        0.75       1.         0.         0.        ]\n",
      " [0.2        0.4        0.6        0.8        1.         0.        ]\n",
      " [0.16666667 0.33333333 0.5        0.66666667 0.83333333 1.        ]]\n"
     ]
    }
   ],
   "source": [
    "# Define the 6x6 tridiagonal matrix K\n",
    "K = np.array([[ 2, -1,  0,  0,  0,  0],\n",
    "              [-1,  2, -1,  0,  0,  0],\n",
    "              [ 0, -1,  2, -1,  0,  0],\n",
    "              [ 0,  0, -1,  2, -1,  0],\n",
    "              [ 0,  0,  0, -1,  2, -1],\n",
    "              [ 0,  0,  0,  0, -1,  2]])\n",
    "\n",
    "P, L, U = lu(K)\n",
    "L_inv = np.linalg.inv(L)\n",
    "\n",
    "print(\"Matrix K:\")\n",
    "print(K)\n",
    "print(\"\\nLower Triangular Matrix L:\")\n",
    "print(L)\n",
    "print(\"\\nUpper Triangular Matrix U:\")\n",
    "print(U)\n",
    "print(\"\\nInverse of L (L^(-1)):\")\n",
    "print(L_inv)"
   ]
  },
  {
   "cell_type": "markdown",
   "metadata": {},
   "source": [
    "26."
   ]
  },
  {
   "cell_type": "code",
   "execution_count": 20,
   "metadata": {},
   "outputs": [
    {
     "name": "stdout",
     "output_type": "stream",
     "text": [
      "\n",
      "Inverse of K * 7:\n",
      "[[ 6.  5.  4.  3.  2.  1.]\n",
      " [ 5. 10.  8.  6.  4.  2.]\n",
      " [ 4.  8. 12.  9.  6.  3.]\n",
      " [ 3.  6.  9. 12.  8.  4.]\n",
      " [ 2.  4.  6.  8. 10.  5.]\n",
      " [ 1.  2.  3.  4.  5.  6.]]\n",
      "\n",
      "Matrix Res:\n",
      "[[7 0 0 0 0 0]\n",
      " [0 7 0 0 0 0]\n",
      " [0 0 7 0 0 0]\n",
      " [0 0 0 7 0 0]\n",
      " [0 0 0 0 7 0]\n",
      " [0 0 0 0 0 7]]\n"
     ]
    }
   ],
   "source": [
    "K_inv = np.linalg.inv(K)\n",
    "print(\"\\nInverse of K * 7:\")\n",
    "print(K_inv * 7)\n",
    "\n",
    "M = np.array([\n",
    "    [6, 5, 4, 3, 2, 1], \n",
    "    [5, 10, 8, 6, 4, 2],\n",
    "    [4, 8, 12, 9, 6, 3],\n",
    "    [3, 6, 9, 12, 8, 4],\n",
    "    [2, 4, 6, 8, 10, 5],\n",
    "    [1, 2, 3, 4, 5, 6]\n",
    "])\n",
    "\n",
    "Res = K @ M\n",
    "print(\"\\nMatrix Res:\")\n",
    "print(Res)"
   ]
  }
 ],
 "metadata": {
  "kernelspec": {
   "display_name": "venv",
   "language": "python",
   "name": "python3"
  },
  "language_info": {
   "codemirror_mode": {
    "name": "ipython",
    "version": 3
   },
   "file_extension": ".py",
   "mimetype": "text/x-python",
   "name": "python",
   "nbconvert_exporter": "python",
   "pygments_lexer": "ipython3",
   "version": "3.9.6"
  }
 },
 "nbformat": 4,
 "nbformat_minor": 2
}
